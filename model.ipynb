{
 "cells": [
  {
   "cell_type": "code",
   "execution_count": 1,
   "metadata": {},
   "outputs": [],
   "source": [
    "import tensorflow as tf\n",
    "from tensorflow.python.framework import ops \n",
    "\n",
    "from collections import Counter \n",
    "import pandas as pd\n",
    "import numpy as np\n",
    "import string\n",
    "import re\n",
    "from _operator import index\n",
    "import time\n",
    "import os"
   ]
  },
  {
   "cell_type": "code",
   "execution_count": 2,
   "metadata": {},
   "outputs": [],
   "source": [
    "# read processed data\n",
    "data_X = pd.read_csv('process-dataset/train_X.csv',dtype=object)\n",
    "data_Y = pd.read_csv('process-dataset/train_Y.csv',dtype=object)"
   ]
  },
  {
   "cell_type": "code",
   "execution_count": 3,
   "metadata": {},
   "outputs": [],
   "source": [
    "# read X and Y \n",
    "train_X = data_X['article']\n",
    "train_Y = data_Y['tags']"
   ]
  },
  {
   "cell_type": "code",
   "execution_count": 4,
   "metadata": {},
   "outputs": [],
   "source": [
    "# data_X['article'][4]"
   ]
  },
  {
   "cell_type": "code",
   "execution_count": 4,
   "metadata": {},
   "outputs": [],
   "source": [
    "train_X = train_X.astype(str)\n",
    "train_Y = train_Y.astype(str)"
   ]
  },
  {
   "cell_type": "code",
   "execution_count": 21,
   "metadata": {},
   "outputs": [
    {
     "data": {
      "text/plain": [
       "'way find sort requests flash application send server i trying see information client sends server using chrome inspect element shows nothing going on but sure communication going on website interesting every time make move somehow sends server may another opponent end game sends game server sure till now see images uploaded game thanks help p s trying use wireshark capture packets way see communication doing pinging chesscube com realize ip address than listening packages address ip addrbut thing see lot tcp http packages http packages sending png images avatars users chat there people constantly speaking see that understand going another address idea found it problem watch traffic net computer much it know limit it '"
      ]
     },
     "execution_count": 21,
     "metadata": {},
     "output_type": "execute_result"
    }
   ],
   "source": [
    "train_X[0]"
   ]
  },
  {
   "cell_type": "code",
   "execution_count": 7,
   "metadata": {},
   "outputs": [
    {
     "name": "stderr",
     "output_type": "stream",
     "text": [
      "Using TensorFlow backend.\n"
     ]
    },
    {
     "data": {
      "text/html": [
       "<script type=\"text/javascript\">window.PlotlyConfig = {MathJaxConfig: 'local'};</script><script type=\"text/javascript\">if (window.MathJax) {MathJax.Hub.Config({SVG: {font: \"STIX-Web\"}});}</script><script>requirejs.config({paths: { 'plotly': ['https://cdn.plot.ly/plotly-latest.min']},});if(!window._Plotly) {require(['plotly'],function(plotly) {window._Plotly=plotly;});}</script>"
      ],
      "text/vnd.plotly.v1+html": [
       "<script type=\"text/javascript\">window.PlotlyConfig = {MathJaxConfig: 'local'};</script><script type=\"text/javascript\">if (window.MathJax) {MathJax.Hub.Config({SVG: {font: \"STIX-Web\"}});}</script><script>requirejs.config({paths: { 'plotly': ['https://cdn.plot.ly/plotly-latest.min']},});if(!window._Plotly) {require(['plotly'],function(plotly) {window._Plotly=plotly;});}</script>"
      ]
     },
     "metadata": {},
     "output_type": "display_data"
    }
   ],
   "source": [
    "# Keras\n",
    "from keras.preprocessing.text import Tokenizer\n",
    "from keras.preprocessing.sequence import pad_sequences\n",
    "from keras.models import Sequential\n",
    "from keras.layers import Dense, Flatten, LSTM, Conv1D, MaxPooling1D, Dropout, Activation\n",
    "from keras.layers.embeddings import Embedding\n",
    "from keras.models import Model\n",
    "from keras.layers import Input, LSTM, RepeatVector, TimeDistributed\n",
    "\n",
    "## Plotly\n",
    "import plotly.offline as py\n",
    "import plotly.graph_objs as go\n",
    "py.init_notebook_mode(connected=True)\n",
    "# Others\n",
    "import nltk\n",
    "import string\n",
    "import numpy as np\n",
    "import pandas as pd\n",
    "from nltk.corpus import stopwords\n",
    "from nltk import *\n",
    "\n",
    "from sklearn.manifold import TSNE"
   ]
  },
  {
   "cell_type": "code",
   "execution_count": 8,
   "metadata": {},
   "outputs": [],
   "source": [
    "### Create X sequence\n",
    "vocabulary_size = 10000\n",
    "tokenizer = Tokenizer(num_words= vocabulary_size)\n",
    "tokenizer.fit_on_texts(train_X)"
   ]
  },
  {
   "cell_type": "code",
   "execution_count": 9,
   "metadata": {},
   "outputs": [],
   "source": [
    "sequences = tokenizer.texts_to_sequences(train_X)\n",
    "seq_x = pad_sequences(sequences,maxlen=100)"
   ]
  },
  {
   "cell_type": "code",
   "execution_count": 22,
   "metadata": {},
   "outputs": [
    {
     "data": {
      "text/plain": [
       "array([   3,   62,  144,  363,  172, 2043,   56,   17,  724, 3713,  230,\n",
       "        557,  524,  583,  266,  219,  300, 3211,  583,  266,  502, 3463,\n",
       "        330,   66,  121,  660, 1324, 2043,   56,  495,  228,  112,  680,\n",
       "       2043,  680,   56,  300, 3002,  280,  144,  293, 1641,  680,  123,\n",
       "         86,  116,  108,   62,   33, 9663, 1745, 4086,   52,  144, 3211,\n",
       "       2923,   32, 3310, 1087,  306, 7338, 3179,  596,  306, 1087,  545,\n",
       "        144,  643, 1565,   50,  596,   50,  596, 1249,  467,  293,  155,\n",
       "       1890,  436, 1030, 4906,  144,  241,  433,  583,  228,  306,  409,\n",
       "        193,   68,   67, 2073, 3631,  244, 1279,  483,   68,   89,  942,\n",
       "         68])"
      ]
     },
     "execution_count": 22,
     "metadata": {},
     "output_type": "execute_result"
    }
   ],
   "source": [
    "seq_x[0]"
   ]
  },
  {
   "cell_type": "code",
   "execution_count": 18,
   "metadata": {},
   "outputs": [],
   "source": [
    "dic = tokenizer.word_index"
   ]
  },
  {
   "cell_type": "code",
   "execution_count": 28,
   "metadata": {},
   "outputs": [
    {
     "name": "stdout",
     "output_type": "stream",
     "text": [
      "com 32\n",
      "inspect 3713\n",
      "ip 1087\n",
      "ip 1087\n",
      "capture 1745\n",
      "sends 2043\n",
      "sends 2043\n",
      "sends 2043\n",
      "server 56\n",
      "server 56\n",
      "server 56\n",
      "see 144\n",
      "see 144\n",
      "see 144\n",
      "see 144\n",
      "see 144\n",
      "help 86\n",
      "png 467\n",
      "communication 3211\n",
      "communication 3211\n",
      "every 330\n",
      "it 68\n",
      "it 68\n",
      "it 68\n",
      "limit 942\n",
      "somehow 1324\n",
      "packages 596\n",
      "packages 596\n",
      "packages 596\n",
      "way 52\n",
      "there 436\n",
      "images 293\n",
      "images 293\n",
      "time 66\n",
      "tcp 1565\n",
      "idea 409\n",
      "sure 300\n",
      "sure 300\n",
      "net 244\n",
      "watch 2073\n",
      "than 7338\n",
      "listening 3179\n",
      "packets 4086\n",
      "know 89\n",
      "going 583\n",
      "going 583\n",
      "going 583\n",
      "trying 62\n",
      "trying 62\n",
      "but 219\n",
      "move 660\n",
      "nothing 524\n",
      "that 241\n",
      "found 193\n",
      "make 121\n",
      "realize 3310\n",
      "understand 433\n",
      "use 33\n",
      "thanks 123\n",
      "address 306\n",
      "address 306\n",
      "address 306\n",
      "element 230\n",
      "client 172\n",
      "game 680\n",
      "game 680\n",
      "game 680\n",
      "http 50\n",
      "http 50\n",
      "sending 1249\n",
      "chrome 724\n",
      "now 280\n",
      "on 266\n",
      "on 266\n",
      "p 116\n",
      "thing 545\n",
      "may 495\n",
      "another 228\n",
      "another 228\n",
      "doing 2923\n",
      "information 363\n",
      "s 108\n",
      "till 3002\n",
      "interesting 3463\n",
      "problem 67\n",
      "computer 1279\n",
      "people 1030\n",
      "end 112\n",
      "i 3\n",
      "uploaded 1641\n",
      "traffic 3631\n",
      "constantly 4906\n",
      "wireshark 9663\n",
      "users 155\n",
      "website 502\n",
      "chat 1890\n",
      "shows 557\n",
      "much 483\n",
      "lot 643\n",
      "using 17\n"
     ]
    }
   ],
   "source": [
    "for word,index in dic.items():\n",
    "    for s in seq_x[0]:\n",
    "        if s == index:\n",
    "            print(word + \" \" + str(index))"
   ]
  },
  {
   "cell_type": "code",
   "execution_count": null,
   "metadata": {},
   "outputs": [],
   "source": []
  }
 ],
 "metadata": {
  "kernelspec": {
   "display_name": "TensorFlow-GPU",
   "language": "python",
   "name": "tensorflow-gpu"
  },
  "language_info": {
   "codemirror_mode": {
    "name": "ipython",
    "version": 3
   },
   "file_extension": ".py",
   "mimetype": "text/x-python",
   "name": "python",
   "nbconvert_exporter": "python",
   "pygments_lexer": "ipython3",
   "version": "3.5.6"
  }
 },
 "nbformat": 4,
 "nbformat_minor": 2
}
