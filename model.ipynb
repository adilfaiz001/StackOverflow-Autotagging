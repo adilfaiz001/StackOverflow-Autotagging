{
 "cells": [
  {
   "cell_type": "code",
   "execution_count": 1,
   "metadata": {},
   "outputs": [],
   "source": [
    "import tensorflow as tf\n",
    "from tensorflow.python.framework import ops \n",
    "\n",
    "from collections import Counter \n",
    "import pandas as pd\n",
    "import numpy as np\n",
    "import string\n",
    "import re\n",
    "from _operator import index\n",
    "import time\n",
    "import os"
   ]
  },
  {
   "cell_type": "code",
   "execution_count": 2,
   "metadata": {},
   "outputs": [],
   "source": [
    "# read processed data\n",
    "data_X = pd.read_csv('process-dataset/train_X.csv',dtype=object)\n",
    "data_Y = pd.read_csv('process-dataset/train_Y.csv',dtype=object)"
   ]
  },
  {
   "cell_type": "code",
   "execution_count": 3,
   "metadata": {},
   "outputs": [],
   "source": [
    "# read X and Y \n",
    "train_X = data_X['article']\n",
    "train_Y = data_Y['tags']"
   ]
  },
  {
   "cell_type": "code",
   "execution_count": 4,
   "metadata": {},
   "outputs": [],
   "source": [
    "# data_X['article'][4]"
   ]
  },
  {
   "cell_type": "code",
   "execution_count": 5,
   "metadata": {},
   "outputs": [],
   "source": [
    "train_X = train_X.astype(str)\n",
    "train_Y = train_Y.astype(str)"
   ]
  },
  {
   "cell_type": "code",
   "execution_count": 6,
   "metadata": {},
   "outputs": [
    {
     "data": {
      "text/plain": [
       "'way find sort request flash applic send server i tri see inform client send server use chrome inspect element show noth go on but sure communic go on websit interest everi time make move somehow send server may anoth oppon end game send game server sure till now see imag upload game thank help p s tri use wireshark captur packet way see communic do ping chesscub com realiz ip address than listen packag address ip addrbut thing see lot tcp http packag http packag send png imag avatar user chat there peopl constant speak see that understand go anoth address idea found it problem watch traffic net comput much it know limit it'"
      ]
     },
     "execution_count": 6,
     "metadata": {},
     "output_type": "execute_result"
    }
   ],
   "source": [
    "train_X[0]"
   ]
  },
  {
   "cell_type": "code",
   "execution_count": 7,
   "metadata": {},
   "outputs": [
    {
     "name": "stderr",
     "output_type": "stream",
     "text": [
      "Using TensorFlow backend.\n"
     ]
    },
    {
     "data": {
      "text/html": [
       "<script type=\"text/javascript\">window.PlotlyConfig = {MathJaxConfig: 'local'};</script><script type=\"text/javascript\">if (window.MathJax) {MathJax.Hub.Config({SVG: {font: \"STIX-Web\"}});}</script><script>requirejs.config({paths: { 'plotly': ['https://cdn.plot.ly/plotly-latest.min']},});if(!window._Plotly) {require(['plotly'],function(plotly) {window._Plotly=plotly;});}</script>"
      ],
      "text/vnd.plotly.v1+html": [
       "<script type=\"text/javascript\">window.PlotlyConfig = {MathJaxConfig: 'local'};</script><script type=\"text/javascript\">if (window.MathJax) {MathJax.Hub.Config({SVG: {font: \"STIX-Web\"}});}</script><script>requirejs.config({paths: { 'plotly': ['https://cdn.plot.ly/plotly-latest.min']},});if(!window._Plotly) {require(['plotly'],function(plotly) {window._Plotly=plotly;});}</script>"
      ]
     },
     "metadata": {},
     "output_type": "display_data"
    }
   ],
   "source": [
    "# Keras\n",
    "from keras.preprocessing.text import Tokenizer\n",
    "from keras.preprocessing.sequence import pad_sequences\n",
    "from keras.models import Sequential\n",
    "from keras.layers import Dense, Flatten, LSTM, Conv1D, MaxPooling1D, Dropout, Activation\n",
    "from keras.layers.embeddings import Embedding\n",
    "from keras.models import Model\n",
    "from keras.layers import Input, LSTM, RepeatVector, TimeDistributed\n",
    "\n",
    "## Plotly\n",
    "import plotly.offline as py\n",
    "import plotly.graph_objs as go\n",
    "py.init_notebook_mode(connected=True)\n",
    "# Others\n",
    "import nltk\n",
    "import string\n",
    "import numpy as np\n",
    "import pandas as pd\n",
    "from nltk.corpus import stopwords\n",
    "from nltk import *\n",
    "\n",
    "from sklearn.manifold import TSNE"
   ]
  },
  {
   "cell_type": "code",
   "execution_count": 8,
   "metadata": {},
   "outputs": [],
   "source": [
    "### Create X sequence\n",
    "vocabulary_size = 10000\n",
    "tokenizer = Tokenizer(num_words= vocabulary_size)\n",
    "tokenizer.fit_on_texts(train_X)"
   ]
  },
  {
   "cell_type": "code",
   "execution_count": 9,
   "metadata": {},
   "outputs": [],
   "source": [
    "sequences = tokenizer.texts_to_sequences(train_X)\n",
    "seq_x = pad_sequences(sequences,maxlen=100)"
   ]
  },
  {
   "cell_type": "code",
   "execution_count": 10,
   "metadata": {},
   "outputs": [
    {
     "data": {
      "text/plain": [
       "array([ 178,  262,   69,    4,  759, 2248,  169,  107,  580,  498,  302,\n",
       "        254,  334, 1591,  498,  302,  515, 1240,  370,   57,   94,  479,\n",
       "       1230,  262,   69,  555,  260, 9158,  115,  636,  262,  636,   69,\n",
       "        334, 2489,  321,  158,   47,  403,  636,   97,   87,  139,  127,\n",
       "         19,    4, 7751, 1279, 1601,   61,  158, 1591,  472, 2662,   36,\n",
       "       1938,  991,  311, 5821,  747,  263,  311,  991,  341,  158,  605,\n",
       "       1424,   66,  263,   66,  263,  262,  521,   47, 2706,   21, 1599,\n",
       "        489,  978, 1074, 4101,  158,  266,  395,  498,  260,  311,  281,\n",
       "        222,   83,   71, 1575, 3019,  283,  744,  545,   83,   95,  712,\n",
       "         83])"
      ]
     },
     "execution_count": 10,
     "metadata": {},
     "output_type": "execute_result"
    }
   ],
   "source": [
    "seq_x[0]"
   ]
  },
  {
   "cell_type": "code",
   "execution_count": 11,
   "metadata": {},
   "outputs": [],
   "source": [
    "dic = tokenizer.word_index"
   ]
  },
  {
   "cell_type": "code",
   "execution_count": 12,
   "metadata": {},
   "outputs": [
    {
     "name": "stdout",
     "output_type": "stream",
     "text": [
      "that 266\n",
      "p 139\n",
      "ip 991\n",
      "ip 991\n",
      "server 69\n",
      "server 69\n",
      "server 69\n",
      "anoth 260\n",
      "anoth 260\n",
      "problem 71\n",
      "upload 403\n",
      "thing 341\n",
      "send 262\n",
      "send 262\n",
      "send 262\n",
      "send 262\n",
      "com 36\n",
      "see 158\n",
      "see 158\n",
      "see 158\n",
      "see 158\n",
      "understand 395\n",
      "end 115\n",
      "there 489\n",
      "peopl 978\n",
      "ping 2662\n",
      "packag 263\n",
      "packag 263\n",
      "packag 263\n",
      "move 479\n",
      "found 222\n",
      "sure 334\n",
      "sure 334\n",
      "packet 1601\n",
      "speak 4101\n",
      "http 66\n",
      "http 66\n",
      "do 472\n",
      "imag 47\n",
      "imag 47\n",
      "listen 747\n",
      "know 95\n",
      "net 283\n",
      "it 83\n",
      "it 83\n",
      "it 83\n",
      "captur 1279\n",
      "oppon 9158\n",
      "avatar 2706\n",
      "websit 515\n",
      "client 178\n",
      "user 21\n",
      "till 2489\n",
      "s 127\n",
      "wireshark 7751\n",
      "go 498\n",
      "go 498\n",
      "go 498\n",
      "may 555\n",
      "somehow 1230\n",
      "inspect 2248\n",
      "watch 1575\n",
      "chrome 759\n",
      "tcp 1424\n",
      "game 636\n",
      "game 636\n",
      "game 636\n",
      "idea 281\n",
      "make 94\n",
      "show 107\n",
      "chat 1599\n",
      "communic 1591\n",
      "communic 1591\n",
      "on 302\n",
      "on 302\n",
      "way 61\n",
      "png 521\n",
      "everi 370\n",
      "now 321\n",
      "tri 19\n",
      "than 5821\n",
      "traffic 3019\n",
      "lot 605\n",
      "interest 1240\n",
      "element 169\n",
      "help 87\n",
      "thank 97\n",
      "but 254\n",
      "address 311\n",
      "address 311\n",
      "address 311\n",
      "much 545\n",
      "limit 712\n",
      "noth 580\n",
      "time 57\n",
      "constant 1074\n",
      "comput 744\n",
      "realiz 1938\n",
      "use 4\n",
      "use 4\n"
     ]
    }
   ],
   "source": [
    "for word,index in dic.items():\n",
    "    for s in seq_x[0]:\n",
    "        if s == index:\n",
    "            print(word + \" \" + str(index))"
   ]
  },
  {
   "cell_type": "code",
   "execution_count": null,
   "metadata": {},
   "outputs": [],
   "source": []
  }
 ],
 "metadata": {
  "kernelspec": {
   "display_name": "TensorFlow-GPU",
   "language": "python",
   "name": "tensorflow-gpu"
  },
  "language_info": {
   "codemirror_mode": {
    "name": "ipython",
    "version": 3
   },
   "file_extension": ".py",
   "mimetype": "text/x-python",
   "name": "python",
   "nbconvert_exporter": "python",
   "pygments_lexer": "ipython3",
   "version": "3.5.6"
  }
 },
 "nbformat": 4,
 "nbformat_minor": 2
}
